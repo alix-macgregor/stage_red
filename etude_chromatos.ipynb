{
 "cells": [
  {
   "cell_type": "code",
   "execution_count": 1,
   "id": "92930de2",
   "metadata": {},
   "outputs": [],
   "source": [
    "import numpy as np\n",
    "import pandas as pd\n",
    "import matplotlib.pyplot as plt\n",
    "\n",
    "import csv"
   ]
  },
  {
   "cell_type": "markdown",
   "id": "892dee5c",
   "metadata": {},
   "source": [
    "# Chromatogramme de l'échantillon 1"
   ]
  },
  {
   "cell_type": "code",
   "execution_count": 2,
   "id": "c57a9d66",
   "metadata": {
    "scrolled": true
   },
   "outputs": [
    {
     "data": {
      "text/html": [
       "<div>\n",
       "<style scoped>\n",
       "    .dataframe tbody tr th:only-of-type {\n",
       "        vertical-align: middle;\n",
       "    }\n",
       "\n",
       "    .dataframe tbody tr th {\n",
       "        vertical-align: top;\n",
       "    }\n",
       "\n",
       "    .dataframe thead th {\n",
       "        text-align: right;\n",
       "    }\n",
       "</style>\n",
       "<table border=\"1\" class=\"dataframe\">\n",
       "  <thead>\n",
       "    <tr style=\"text-align: right;\">\n",
       "      <th></th>\n",
       "      <th>Start of data points</th>\n",
       "      <th>Area</th>\n",
       "    </tr>\n",
       "  </thead>\n",
       "  <tbody>\n",
       "    <tr>\n",
       "      <th>0</th>\n",
       "      <td>1.99480</td>\n",
       "      <td>6938978.0</td>\n",
       "    </tr>\n",
       "    <tr>\n",
       "      <th>1</th>\n",
       "      <td>1.99862</td>\n",
       "      <td>6158481.0</td>\n",
       "    </tr>\n",
       "    <tr>\n",
       "      <th>2</th>\n",
       "      <td>2.00242</td>\n",
       "      <td>5366951.0</td>\n",
       "    </tr>\n",
       "    <tr>\n",
       "      <th>3</th>\n",
       "      <td>2.00623</td>\n",
       "      <td>4755161.0</td>\n",
       "    </tr>\n",
       "    <tr>\n",
       "      <th>4</th>\n",
       "      <td>2.01005</td>\n",
       "      <td>4345257.0</td>\n",
       "    </tr>\n",
       "    <tr>\n",
       "      <th>...</th>\n",
       "      <td>...</td>\n",
       "      <td>...</td>\n",
       "    </tr>\n",
       "    <tr>\n",
       "      <th>8344</th>\n",
       "      <td>33.80745</td>\n",
       "      <td>427167.0</td>\n",
       "    </tr>\n",
       "    <tr>\n",
       "      <th>8345</th>\n",
       "      <td>33.81127</td>\n",
       "      <td>428047.0</td>\n",
       "    </tr>\n",
       "    <tr>\n",
       "      <th>8346</th>\n",
       "      <td>33.81507</td>\n",
       "      <td>427393.0</td>\n",
       "    </tr>\n",
       "    <tr>\n",
       "      <th>8347</th>\n",
       "      <td>33.81888</td>\n",
       "      <td>427451.0</td>\n",
       "    </tr>\n",
       "    <tr>\n",
       "      <th>8348</th>\n",
       "      <td>33.82270</td>\n",
       "      <td>426990.0</td>\n",
       "    </tr>\n",
       "  </tbody>\n",
       "</table>\n",
       "<p>8349 rows × 2 columns</p>\n",
       "</div>"
      ],
      "text/plain": [
       "      Start of data points       Area\n",
       "0                  1.99480  6938978.0\n",
       "1                  1.99862  6158481.0\n",
       "2                  2.00242  5366951.0\n",
       "3                  2.00623  4755161.0\n",
       "4                  2.01005  4345257.0\n",
       "...                    ...        ...\n",
       "8344              33.80745   427167.0\n",
       "8345              33.81127   428047.0\n",
       "8346              33.81507   427393.0\n",
       "8347              33.81888   427451.0\n",
       "8348              33.82270   426990.0\n",
       "\n",
       "[8349 rows x 2 columns]"
      ]
     },
     "execution_count": 2,
     "metadata": {},
     "output_type": "execute_result"
    }
   ],
   "source": [
    "file = \"Chromatos/tic_front_ech_1_hydro.csv\"\n",
    "ech_1_hydro_df = pd.read_csv(file, skiprows=1)\n",
    "ech_1_hydro_df"
   ]
  },
  {
   "cell_type": "code",
   "execution_count": 3,
   "id": "0210cbae",
   "metadata": {},
   "outputs": [
    {
     "data": {
      "text/plain": [
       "[<matplotlib.lines.Line2D at 0x7f93c2720190>]"
      ]
     },
     "execution_count": 3,
     "metadata": {},
     "output_type": "execute_result"
    },
    {
     "data": {
      "image/png": "[encoded data removed]",
      "text/plain": [
       "<Figure size 640x480 with 1 Axes>"
      ]
     },
     "metadata": {},
     "output_type": "display_data"
    }
   ],
   "source": [
    "plt.plot(ech_1_hydro_df['Start of data points'], ech_1_hydro_df['Area'])"
   ]
  },
  {
   "cell_type": "markdown",
   "id": "7a1dceee",
   "metadata": {},
   "source": [
    "Note : J'ai récupéré tous les chromatogrammes normalement! Essayer de voir comment les séparer."
   ]
  },
  {
   "cell_type": "markdown",
   "id": "a0d5fca6",
   "metadata": {},
   "source": [
    "# Ensemble des chromatogrammes"
   ]
  },
  {
   "cell_type": "markdown",
   "id": "59313bc0",
   "metadata": {},
   "source": [
    "J'ai dû faire en deux fois à voir si ça marche ou pas..."
   ]
  },
  {
   "cell_type": "code",
   "execution_count": 28,
   "id": "ce6f367c",
   "metadata": {
    "scrolled": true
   },
   "outputs": [
    {
     "name": "stderr",
     "output_type": "stream",
     "text": [
      "IOPub data rate exceeded.\n",
      "The notebook server will temporarily stop sending output\n",
      "to the client in order to avoid crashing it.\n",
      "To change this limit, set the config variable\n",
      "`--NotebookApp.iopub_data_rate_limit`.\n",
      "\n",
      "Current values:\n",
      "NotebookApp.iopub_data_rate_limit=1000000.0 (bytes/sec)\n",
      "NotebookApp.rate_limit_window=3.0 (secs)\n",
      "\n"
     ]
    },
    {
     "ename": "UnicodeDecodeError",
     "evalue": "'utf-8' codec can't decode byte 0xe9 in position 4808: invalid continuation byte",
     "output_type": "error",
     "traceback": [
      "\u001b[0;31m---------------------------------------------------------------------------\u001b[0m",
      "\u001b[0;31mUnicodeDecodeError\u001b[0m                        Traceback (most recent call last)",
      "Cell \u001b[0;32mIn [28], line 6\u001b[0m\n\u001b[1;32m      3\u001b[0m k \u001b[38;5;241m=\u001b[39m \u001b[38;5;241m0\u001b[39m\n\u001b[1;32m      4\u001b[0m csv_files \u001b[38;5;241m=\u001b[39m []\n\u001b[0;32m----> 6\u001b[0m \u001b[38;5;28;01mfor\u001b[39;00m i, row \u001b[38;5;129;01min\u001b[39;00m \u001b[38;5;28menumerate\u001b[39m(reader) :\n\u001b[1;32m      7\u001b[0m     \u001b[38;5;28;01mif\u001b[39;00m row[\u001b[38;5;241m0\u001b[39m] \u001b[38;5;241m==\u001b[39m \u001b[38;5;124m'\u001b[39m\u001b[38;5;124mPath\u001b[39m\u001b[38;5;124m'\u001b[39m:\n\u001b[1;32m      8\u001b[0m         \u001b[38;5;28;01mif\u001b[39;00m i \u001b[38;5;241m!=\u001b[39m \u001b[38;5;241m0\u001b[39m :\n",
      "File \u001b[0;32m~/.pyenv/versions/3.8.12/lib/python3.8/codecs.py:322\u001b[0m, in \u001b[0;36mBufferedIncrementalDecoder.decode\u001b[0;34m(self, input, final)\u001b[0m\n\u001b[1;32m    319\u001b[0m \u001b[38;5;28;01mdef\u001b[39;00m \u001b[38;5;21mdecode\u001b[39m(\u001b[38;5;28mself\u001b[39m, \u001b[38;5;28minput\u001b[39m, final\u001b[38;5;241m=\u001b[39m\u001b[38;5;28;01mFalse\u001b[39;00m):\n\u001b[1;32m    320\u001b[0m     \u001b[38;5;66;03m# decode input (taking the buffer into account)\u001b[39;00m\n\u001b[1;32m    321\u001b[0m     data \u001b[38;5;241m=\u001b[39m \u001b[38;5;28mself\u001b[39m\u001b[38;5;241m.\u001b[39mbuffer \u001b[38;5;241m+\u001b[39m \u001b[38;5;28minput\u001b[39m\n\u001b[0;32m--> 322\u001b[0m     (result, consumed) \u001b[38;5;241m=\u001b[39m \u001b[38;5;28;43mself\u001b[39;49m\u001b[38;5;241;43m.\u001b[39;49m\u001b[43m_buffer_decode\u001b[49m\u001b[43m(\u001b[49m\u001b[43mdata\u001b[49m\u001b[43m,\u001b[49m\u001b[43m \u001b[49m\u001b[38;5;28;43mself\u001b[39;49m\u001b[38;5;241;43m.\u001b[39;49m\u001b[43merrors\u001b[49m\u001b[43m,\u001b[49m\u001b[43m \u001b[49m\u001b[43mfinal\u001b[49m\u001b[43m)\u001b[49m\n\u001b[1;32m    323\u001b[0m     \u001b[38;5;66;03m# keep undecoded input until the next call\u001b[39;00m\n\u001b[1;32m    324\u001b[0m     \u001b[38;5;28mself\u001b[39m\u001b[38;5;241m.\u001b[39mbuffer \u001b[38;5;241m=\u001b[39m data[consumed:]\n",
      "\u001b[0;31mUnicodeDecodeError\u001b[0m: 'utf-8' codec can't decode byte 0xe9 in position 4808: invalid continuation byte"
     ]
    }
   ],
   "source": [
    "with open('Chromatos/CHROMTAB.CSV') as csvfile :\n",
    "    reader = csv.reader(csvfile)\n",
    "    k = 0\n",
    "    csv_files = []\n",
    "    \n",
    "    for i, row in enumerate(reader) :\n",
    "        if row[0] == 'Path':\n",
    "            if i != 0 :\n",
    "                csv_files.append(csv_file)\n",
    "            csv_file = []\n",
    "            k = i\n",
    "            \n",
    "        elif i == k+1 :\n",
    "            name = row[1].strip('.D')\n",
    "            csv_file.append(name)\n",
    "            print(name)\n",
    "        \n",
    "        else :\n",
    "            print(row)\n",
    "            if i != k+2 :\n",
    "                print(row[0], csv_file)\n",
    "                csv_file.append({'Retention time' : row[0], 'Abundance' : row[1]})"
   ]
  },
  {
   "cell_type": "code",
   "execution_count": 27,
   "id": "0aedded1",
   "metadata": {},
   "outputs": [
    {
     "data": {
      "text/plain": [
       "[]"
      ]
     },
     "execution_count": 27,
     "metadata": {},
     "output_type": "execute_result"
    }
   ],
   "source": [
    "csv_files"
   ]
  },
  {
   "cell_type": "code",
   "execution_count": 20,
   "id": "edf60613",
   "metadata": {},
   "outputs": [],
   "source": [
    "for csv_file in csv_files :\n",
    "    with open(f'Chromatos/{csv_file[0]}.csv', 'w') as csvfile :\n",
    "        writer = csv.DictWriter(csvfile, fieldnames=csv_file[1].keys())\n",
    "        writer.writeheader()\n",
    "        for point in csv_file[1:]:\n",
    "              writer.writerow(point)"
   ]
  }
 ],
 "metadata": {
  "kernelspec": {
   "display_name": "Python 3 (ipykernel)",
   "language": "python",
   "name": "python3"
  },
  "language_info": {
   "codemirror_mode": {
    "name": "ipython",
    "version": 3
   },
   "file_extension": ".py",
   "mimetype": "text/x-python",
   "name": "python",
   "nbconvert_exporter": "python",
   "pygments_lexer": "ipython3",
   "version": "3.8.12"
  },
  "toc": {
   "base_numbering": 1,
   "nav_menu": {},
   "number_sections": true,
   "sideBar": true,
   "skip_h1_title": false,
   "title_cell": "Table of Contents",
   "title_sidebar": "Contents",
   "toc_cell": false,
   "toc_position": {},
   "toc_section_display": true,
   "toc_window_display": false
  }
 },
 "nbformat": 4,
 "nbformat_minor": 5
}
