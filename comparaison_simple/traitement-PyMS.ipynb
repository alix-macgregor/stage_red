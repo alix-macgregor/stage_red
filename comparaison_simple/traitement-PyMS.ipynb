{
 "cells": [
  {
   "cell_type": "code",
   "execution_count": 1,
   "id": "bd50e48e",
   "metadata": {},
   "outputs": [],
   "source": [
    "from pyms.GCMS.IO.ANDI import ANDI_reader\n",
    "from pyms.IntensityMatrix import build_intensity_matrix, build_intensity_matrix_i\n",
    "from pyms.BillerBiemann import BillerBiemann, rel_threshold, num_ions_threshold\n",
    "from pyms.Peak.Function import peak_sum_area\n",
    "\n",
    "import numpy as np\n",
    "import pandas as pd\n",
    "import matplotlib.pyplot as plt\n",
    "import seaborn as sns\n",
    "\n",
    "import os\n",
    "import csv\n",
    "import math"
   ]
  },
  {
   "cell_type": "markdown",
   "id": "9cb3de28",
   "metadata": {},
   "source": [
    "# PyMS - traitement data"
   ]
  },
  {
   "cell_type": "code",
   "execution_count": 2,
   "id": "4cc9ab3e",
   "metadata": {},
   "outputs": [
    {
     "name": "stdout",
     "output_type": "stream",
     "text": [
      " -> Reading netCDF file 'Echantillons/AIAEXPRT.AIA/ech70.CDF'\n",
      " -> Reading netCDF file 'Echantillons/AIAEXPRT.AIA/ech219.CDF'\n",
      " -> Reading netCDF file 'Echantillons/AIAEXPRT.AIA/ech203.CDF'\n",
      " -> Reading netCDF file 'Echantillons/AIAEXPRT.AIA/ech156.CDF'\n",
      " -> Reading netCDF file 'Echantillons/AIAEXPRT.AIA/ech235.CDF'\n",
      " -> Reading netCDF file 'Echantillons/AIAEXPRT.AIA/ech259.CDF'\n",
      " -> Reading netCDF file 'Echantillons/AIAEXPRT.AIA/ech263.CDF'\n",
      " -> Reading netCDF file 'Echantillons/AIAEXPRT.AIA/ech86.CDF'\n",
      " -> Reading netCDF file 'Echantillons/AIAEXPRT.AIA/ech234.CDF'\n",
      " -> Reading netCDF file 'Echantillons/AIAEXPRT.AIA/ech166.CDF'\n",
      " -> Reading netCDF file 'Echantillons/AIAEXPRT.AIA/ech154.CDF'\n",
      " -> Reading netCDF file 'Echantillons/AIAEXPRT.AIA/ech255.CDF'\n",
      " -> Reading netCDF file 'Echantillons/AIAEXPRT.AIA/ech254.CDF'\n",
      " -> Reading netCDF file 'Echantillons/AIAEXPRT.AIA/ech256.CDF'\n",
      " -> Reading netCDF file 'Echantillons/AIAEXPRT.AIA/ech122.CDF'\n",
      " -> Reading netCDF file 'Echantillons/AIAEXPRT.AIA/ech137.CDF'\n",
      " -> Reading netCDF file 'Echantillons/AIAEXPRT.AIA/ech87.CDF'\n",
      " -> Reading netCDF file 'Echantillons/AIAEXPRT.AIA/ech257.CDF'\n",
      " -> Reading netCDF file 'Echantillons/AIAEXPRT.AIA/ech314.CDF'\n",
      " -> Reading netCDF file 'Echantillons/AIAEXPRT.AIA/ech208.CDF'\n"
     ]
    }
   ],
   "source": [
    "datas = []\n",
    "for name in os.listdir('Echantillons/AIAEXPRT.AIA') :\n",
    "    andi_file = f\"Echantillons/AIAEXPRT.AIA/{name}\"\n",
    "    raw_data = ANDI_reader(andi_file)\n",
    "\n",
    "    datas.append(raw_data)"
   ]
  },
  {
   "cell_type": "code",
   "execution_count": 3,
   "id": "f971cc63",
   "metadata": {
    "scrolled": true
   },
   "outputs": [],
   "source": [
    "nb_scans = []\n",
    "for data in datas :\n",
    "    nb_scans.append(len(data.scan_list))"
   ]
  },
  {
   "cell_type": "code",
   "execution_count": 4,
   "id": "0fc436cc",
   "metadata": {},
   "outputs": [],
   "source": [
    "n = np.min(nb_scans)"
   ]
  },
  {
   "cell_type": "code",
   "execution_count": 5,
   "id": "565c73d8",
   "metadata": {},
   "outputs": [
    {
     "name": "stdout",
     "output_type": "stream",
     "text": [
      "Trimming data to between 1 and 7307 scans\n",
      "Trimming data to between 1 and 7307 scans\n",
      "Trimming data to between 1 and 7307 scans\n",
      "Trimming data to between 1 and 7307 scans\n",
      "Trimming data to between 1 and 7307 scans\n",
      "Trimming data to between 1 and 7307 scans\n",
      "Trimming data to between 1 and 7307 scans\n",
      "Trimming data to between 1 and 7307 scans\n",
      "Trimming data to between 1 and 7307 scans\n",
      "Trimming data to between 1 and 7307 scans\n",
      "Trimming data to between 1 and 7307 scans\n",
      "Trimming data to between 1 and 7307 scans\n",
      "Trimming data to between 1 and 7307 scans\n",
      "Trimming data to between 1 and 7307 scans\n",
      "Trimming data to between 1 and 7307 scans\n",
      "Trimming data to between 1 and 7307 scans\n",
      "Trimming data to between 1 and 7307 scans\n",
      "Trimming data to between 1 and 7307 scans\n",
      "Trimming data to between 1 and 7307 scans\n",
      "Trimming data to between 1 and 7307 scans\n"
     ]
    }
   ],
   "source": [
    "for data in datas :\n",
    "    data.trim(1, n-1)"
   ]
  },
  {
   "cell_type": "code",
   "execution_count": 6,
   "id": "53ec5da0",
   "metadata": {},
   "outputs": [
    {
     "name": "stdout",
     "output_type": "stream",
     "text": [
      "7239\n",
      "7245\n",
      "7245\n"
     ]
    }
   ],
   "source": [
    "peak_lists = []\n",
    "for data in datas[:3] :\n",
    "    im = build_intensity_matrix(data)\n",
    "    peak_list = BillerBiemann(im)\n",
    "    print(len(peak_list))\n",
    "    peak_lists.append(peak_list)"
   ]
  },
  {
   "cell_type": "code",
   "execution_count": 7,
   "id": "814c9ede",
   "metadata": {},
   "outputs": [
    {
     "name": "stdout",
     "output_type": "stream",
     "text": [
      "7246\n",
      "7246\n",
      "7241\n"
     ]
    }
   ],
   "source": [
    "for data in datas[3:6] :\n",
    "    im = build_intensity_matrix(data)\n",
    "    peak_list = BillerBiemann(im)\n",
    "    print(len(peak_list))\n",
    "    peak_lists.append(peak_list)"
   ]
  },
  {
   "cell_type": "code",
   "execution_count": 8,
   "id": "93a9ca78",
   "metadata": {},
   "outputs": [
    {
     "name": "stdout",
     "output_type": "stream",
     "text": [
      "7246\n",
      "7224\n",
      "7244\n"
     ]
    }
   ],
   "source": [
    "for data in datas[6:9] :\n",
    "    im = build_intensity_matrix(data)\n",
    "    peak_list = BillerBiemann(im)\n",
    "    print(len(peak_list))\n",
    "    peak_lists.append(peak_list)"
   ]
  },
  {
   "cell_type": "code",
   "execution_count": 9,
   "id": "09a57510",
   "metadata": {},
   "outputs": [
    {
     "name": "stdout",
     "output_type": "stream",
     "text": [
      "7241\n",
      "7245\n",
      "7245\n"
     ]
    }
   ],
   "source": [
    "for data in datas[9:12] :\n",
    "    im = build_intensity_matrix(data)\n",
    "    peak_list = BillerBiemann(im)\n",
    "    print(len(peak_list))\n",
    "    peak_lists.append(peak_list)"
   ]
  },
  {
   "cell_type": "code",
   "execution_count": 10,
   "id": "ca40e843",
   "metadata": {},
   "outputs": [
    {
     "name": "stdout",
     "output_type": "stream",
     "text": [
      "7242\n",
      "7245\n",
      "7230\n"
     ]
    }
   ],
   "source": [
    "for data in datas[12:15] :\n",
    "    im = build_intensity_matrix(data)\n",
    "    peak_list = BillerBiemann(im)\n",
    "    print(len(peak_list))\n",
    "    peak_lists.append(peak_list)"
   ]
  },
  {
   "cell_type": "code",
   "execution_count": null,
   "id": "dc571989",
   "metadata": {},
   "outputs": [],
   "source": [
    "for data in datas[15:18] :\n",
    "    im = build_intensity_matrix(data)\n",
    "    peak_list = BillerBiemann(im)\n",
    "    print(len(peak_list))\n",
    "    peak_lists.append(peak_list)"
   ]
  },
  {
   "cell_type": "code",
   "execution_count": null,
   "id": "22f7ef87",
   "metadata": {},
   "outputs": [],
   "source": [
    "for data in datas[18:20] :\n",
    "    im = build_intensity_matrix(data)\n",
    "    peak_list = BillerBiemann(im)\n",
    "    print(len(peak_list))\n",
    "    peak_lists.append(peak_list)"
   ]
  },
  {
   "cell_type": "code",
   "execution_count": null,
   "id": "0ba22b16",
   "metadata": {},
   "outputs": [],
   "source": [
    "def prob_taille(liste) :\n",
    "    prob = []\n",
    "    peak_ref = liste[0]\n",
    "    taille_ref = len(peak_ref)\n",
    "    print(len(liste))\n",
    "    for i in range(len(liste)) :\n",
    "        peak = liste[i]\n",
    "        taille = len(peak)\n",
    "\n",
    "        if taille_ref-taille != 0 :\n",
    "            prob.append((True, taille_ref-taille))\n",
    "\n",
    "        else :\n",
    "            prob.append((False, taille_ref-taille))\n",
    "\n",
    "    return prob"
   ]
  },
  {
   "cell_type": "code",
   "execution_count": null,
   "id": "783fb6a8",
   "metadata": {},
   "outputs": [],
   "source": [
    "prob_taille(peak_lists)"
   ]
  },
  {
   "cell_type": "code",
   "execution_count": null,
   "id": "3a5ef3de",
   "metadata": {},
   "outputs": [],
   "source": []
  },
  {
   "cell_type": "code",
   "execution_count": null,
   "id": "ddc63d6c",
   "metadata": {},
   "outputs": [],
   "source": []
  }
 ],
 "metadata": {
  "kernelspec": {
   "display_name": "Python 3 (ipykernel)",
   "language": "python",
   "name": "python3"
  },
  "language_info": {
   "codemirror_mode": {
    "name": "ipython",
    "version": 3
   },
   "file_extension": ".py",
   "mimetype": "text/x-python",
   "name": "python",
   "nbconvert_exporter": "python",
   "pygments_lexer": "ipython3",
   "version": "3.8.12"
  },
  "toc": {
   "base_numbering": 1,
   "nav_menu": {},
   "number_sections": true,
   "sideBar": true,
   "skip_h1_title": false,
   "title_cell": "Table of Contents",
   "title_sidebar": "Contents",
   "toc_cell": false,
   "toc_position": {},
   "toc_section_display": true,
   "toc_window_display": false
  }
 },
 "nbformat": 4,
 "nbformat_minor": 5
}
